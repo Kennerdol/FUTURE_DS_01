{
 "cells": [
  {
   "cell_type": "markdown",
   "id": "0792b3e4",
   "metadata": {},
   "source": [
    "## Importing libralries"
   ]
  },
  {
   "cell_type": "code",
   "execution_count": null,
   "id": "3a4973be",
   "metadata": {},
   "outputs": [],
   "source": [
    "import pandas as pd\n",
    "import matplotlib.pyplot as plt\n",
    "import seaborn as sns\n",
    "from textblob import TextBlob\n",
    "from collections import Counter\n",
    "import ast"
   ]
  },
  {
   "cell_type": "markdown",
   "id": "c64181df",
   "metadata": {},
   "source": [
    "## Loading and inspecting data"
   ]
  },
  {
   "cell_type": "code",
   "execution_count": null,
   "id": "3c8cfaa0",
   "metadata": {},
   "outputs": [],
   "source": [
    "\n",
    "social_df = pd.read_csv('sentimentdataset.csv', index_col='User')\n",
    "social_df.info()"
   ]
  },
  {
   "cell_type": "code",
   "execution_count": null,
   "id": "3ff7859a",
   "metadata": {},
   "outputs": [],
   "source": [
    "social_df.head()"
   ]
  },
  {
   "cell_type": "markdown",
   "id": "e2ad49af",
   "metadata": {},
   "source": [
    "## Cleaning data"
   ]
  },
  {
   "cell_type": "code",
   "execution_count": null,
   "id": "166af4ad",
   "metadata": {},
   "outputs": [],
   "source": [
    "social_df.drop(columns=['Unnamed: 0.1', 'Unnamed: 0'], inplace=True)\n",
    "social_df.head()"
   ]
  },
  {
   "cell_type": "code",
   "execution_count": null,
   "id": "8f5d35e3",
   "metadata": {},
   "outputs": [],
   "source": [
    "# Define common country name mappings\n",
    "country_replacements = {\n",
    "    'Usa': 'United States',\n",
    "    'U.S.A': 'United States',\n",
    "    'United States Of America': 'United States',\n",
    "    'Uk': 'United Kingdom',\n",
    "    'Uae': 'United Arab Emirates',\n",
    "    'South Korea': 'Korea, South',\n",
    "    'Russia': 'Russian Federation',\n",
    "    # Add more as needed\n",
    "}\n",
    "\n",
    "# Apply replacements after stripping and title-casing\n",
    "social_df['Country'] = (\n",
    "    social_df['Country']\n",
    "    .str.strip()\n",
    "    .str.title()\n",
    "    .replace(country_replacements)\n",
    ")\n"
   ]
  },
  {
   "cell_type": "code",
   "execution_count": null,
   "id": "f10aa103",
   "metadata": {},
   "outputs": [],
   "source": [
    "print(social_df['Country'].value_counts().head(20))\n"
   ]
  },
  {
   "cell_type": "code",
   "execution_count": null,
   "id": "3799ac90",
   "metadata": {},
   "outputs": [],
   "source": [
    "social_df.to_csv('social_data_cleaned.csv', index=False)\n"
   ]
  },
  {
   "cell_type": "code",
   "execution_count": null,
   "id": "675fa31f",
   "metadata": {},
   "outputs": [],
   "source": [
    "social_df_cleaned = social_df.copy()\n",
    "social_df_cleaned['Sentiment'] = social_df_cleaned['Sentiment'].str.strip().str.capitalize()\n",
    "social_df_cleaned['Platform'] = social_df_cleaned['Platform'].str.strip().str.capitalize()\n",
    "social_df_cleaned['Hashtags'] = social_df_cleaned['Hashtags'].str.lower().str.replace('#', '').str.split()\n",
    "\n",
    "sentiment_summary = social_df_cleaned.groupby(['Platform', 'Sentiment']).size().unstack().fillna(0)\n",
    "sentiment_summary\n"
   ]
  },
  {
   "cell_type": "markdown",
   "id": "9ff381cf",
   "metadata": {},
   "source": [
    "## Visualise"
   ]
  },
  {
   "cell_type": "code",
   "execution_count": null,
   "id": "ec12c065",
   "metadata": {},
   "outputs": [],
   "source": [
    "social_df_cleaned['Polarity'] = social_df['Text'].apply(lambda x: TextBlob(str(x)).sentiment.polarity)\n",
    "social_df_cleaned['Subjectivity'] = social_df['Text'].apply(lambda x: TextBlob(str(x)).sentiment.subjectivity)\n",
    "\n",
    "# Categorize sentiment based on polarity\n",
    "def categorizedSentiment(polarity):\n",
    "    if polarity > 0.1:\n",
    "        return 'Positive'\n",
    "    elif polarity < -0.1:\n",
    "        return 'Negative'\n",
    "    else:\n",
    "        return 'Neutral'\n",
    "\n",
    "social_df_cleaned['Sentiment_Category'] = social_df_cleaned['Polarity'].apply(categorizedSentiment)\n",
    "\n",
    "textblob_path = 'categorizedSentiment.csv'\n",
    "social_df_cleaned.to_csv(textblob_path, index=False)\n",
    "textblob_summary = social_df_cleaned['Sentiment_Category'].value_counts()\n",
    "\n",
    "textblob_summary\n"
   ]
  },
  {
   "cell_type": "code",
   "execution_count": null,
   "id": "3bb3c863",
   "metadata": {},
   "outputs": [],
   "source": [
    "sns.set_theme(style=\"whitegrid\")\n",
    "plt.figure(figsize=(6, 4))\n",
    "sns.countplot(data=social_df_cleaned, x='Sentiment_Category', hue='Sentiment_Category', palette='viridis', legend=False)\n",
    "plt.title('Overal Sentiment Distribution', fontsize=14)\n",
    "plt.xlabel('Sentiment Category')\n",
    "plt.ylabel('Count')\n",
    "plt.tight_layout()\n",
    "plt.savefig('Categorical_Sentiments_Count.png')\n",
    "plt.show()\n"
   ]
  },
  {
   "cell_type": "code",
   "execution_count": null,
   "id": "5c789806",
   "metadata": {},
   "outputs": [],
   "source": [
    "sentiment_counts = social_df_cleaned['Sentiment_Category'].value_counts()\n",
    "labels = sentiment_counts.index\n",
    "sizes = sentiment_counts.values\n",
    "colors = sns.color_palette('viridis', len(labels))\n",
    "\n",
    "plt.figure(figsize=(5, 4))\n",
    "wedges, texts, autotexts = plt.pie(\n",
    "    sizes, labels=labels, autopct='%1.1f%%', startangle=140, colors=colors,\n",
    "    wedgeprops=dict(width=0.4, edgecolor='w'), textprops={'fontsize': 10}\n",
    ")\n",
    "\n",
    "plt.title('Overall Sentiment Distribution', fontsize=14)\n",
    "plt.axis('equal')\n",
    "plt.tight_layout()\n",
    "plt.savefig('Sentiment_Distribution_DonutChart.png')\n",
    "plt.show()\n"
   ]
  },
  {
   "cell_type": "code",
   "execution_count": null,
   "id": "6d1769e9",
   "metadata": {},
   "outputs": [],
   "source": [
    "platform_counts = social_df_cleaned['Platform'].value_counts()\n",
    "plt.figure(figsize=(4, 5))\n",
    "colors = sns.color_palette('viridis', len(platform_counts))\n",
    "plt.pie(platform_counts.values, labels=platform_counts.index, autopct='%1.1f%%', startangle=140, colors=colors)\n",
    "plt.title('Platform Usage Distribution')\n",
    "plt.axis('equal')\n",
    "plt.tight_layout()\n",
    "plt.savefig('Platform_Distribution_PieChart.png')\n",
    "plt.show()\n"
   ]
  },
  {
   "cell_type": "code",
   "execution_count": null,
   "id": "4a895329",
   "metadata": {},
   "outputs": [],
   "source": [
    "plt.figure(figsize=(8, 4))\n",
    "sns.set_theme(style=\"whitegrid\")\n",
    "\n",
    "ax = sns.countplot(\n",
    "    data=social_df_cleaned,\n",
    "    x='Platform',\n",
    "    hue='Sentiment_Category',\n",
    "    palette='viridis'\n",
    ")\n",
    "\n",
    "for p in ax.patches:\n",
    "    height = p.get_height()\n",
    "    if height > 0:\n",
    "        ax.annotate(f'{height}', (p.get_x() + p.get_width() / 2., height),\n",
    "                    ha='center', va='bottom', fontsize=9)\n",
    "\n",
    "plt.title('Sentiment Distribution by Platform', fontsize=14)\n",
    "plt.xlabel('Platform')\n",
    "plt.ylabel('Count')\n",
    "plt.legend(title='Sentiment')\n",
    "plt.tight_layout()\n",
    "plt.savefig('Sentiment_by_Platform.png')\n",
    "plt.show()\n"
   ]
  },
  {
   "cell_type": "code",
   "execution_count": null,
   "id": "73c5a262",
   "metadata": {},
   "outputs": [],
   "source": [
    "social_df_cleaned['Hashtags'] = (\n",
    "    social_df_cleaned['Hashtags']\n",
    "    .dropna()\n",
    "    .apply(lambda x: [tag.strip().lower() for tag in str(x).split(',')])\n",
    ")\n",
    "\n",
    "exploded_df = social_df_cleaned.explode('Hashtags').dropna(subset=['Hashtags'])\n",
    "exploded_df['Hashtags'] = exploded_df['Hashtags'].str.replace(r\"[\\'\\\"\\[\\]#]\", '', regex=True)\n",
    "\n",
    "platforms = exploded_df['Platform'].unique()\n",
    "\n",
    "platform_hashtag_data = {}\n",
    "\n",
    "for platform in platforms:\n",
    "    platform_hashtags = exploded_df[exploded_df['Platform'] == platform]['Hashtags']\n",
    "    hashtag_counts = Counter(platform_hashtags)\n",
    "    top_10 = hashtag_counts.most_common(10)\n",
    "    platform_hashtag_data[platform] = top_10\n",
    "\n",
    "for platform, hashtags in platform_hashtag_data.items():\n",
    "    if not hashtags:\n",
    "        continue \n",
    "    labels, values = zip(*hashtags)\n",
    "    colors = sns.color_palette(\"viridis\", len(labels))\n",
    "\n",
    "    plt.figure(figsize=(10, 4))\n",
    "    bars = plt.barh(labels, values, color=colors)\n",
    "\n",
    "    for bar in bars:\n",
    "        width = bar.get_width()\n",
    "        plt.text(width + 0.5, bar.get_y() + bar.get_height()/2, str(width), va='center', fontsize=9)\n",
    "\n",
    "    plt.xlabel('Frequency')\n",
    "    plt.title(f'Top 10 Hashtags on {platform}')\n",
    "    plt.gca().invert_yaxis()\n",
    "    plt.tight_layout()\n",
    "    plt.savefig(f'top_10_hashtags_{platform.lower().replace(\" \", \"_\")}.png')\n",
    "    plt.show()\n"
   ]
  },
  {
   "cell_type": "code",
   "execution_count": null,
   "id": "9e7f86ac",
   "metadata": {},
   "outputs": [],
   "source": [
    "# Group by Platform and Country and count\n",
    "country_platform_counts = (\n",
    "    social_df_cleaned\n",
    "    .groupby(['Platform', 'Country'])\n",
    "    .size()\n",
    "    .reset_index(name='Count')\n",
    ")\n",
    "\n",
    "# Top 5 countries per platform\n",
    "top_countries_per_platform = (\n",
    "    country_platform_counts\n",
    "    .sort_values(['Platform', 'Count'], ascending=[True, False])\n",
    "    .groupby('Platform')\n",
    "    .head(5)\n",
    ")\n",
    "\n",
    "# Plot\n",
    "g = sns.catplot(\n",
    "    data=top_countries_per_platform,\n",
    "    x='Count', y='Country',\n",
    "    hue='Country',\n",
    "    col='Platform',\n",
    "    kind='bar',\n",
    "    col_wrap=3,\n",
    "    height=4,\n",
    "    aspect=1.2,\n",
    "    palette='tab10',\n",
    "    legend=False,\n",
    ")\n",
    "\n",
    "g.set_titles(\"{col_name}\")\n",
    "g.set_axis_labels(\"Number of Posts\", \"Country\")\n",
    "g.fig.suptitle(\"Top 5 Countries per Platform\", fontsize=16, y=1.05)\n",
    "plt.tight_layout()\n",
    "plt.savefig('Top_Countries_by_Platform.png')\n",
    "plt.show()\n"
   ]
  },
  {
   "cell_type": "code",
   "execution_count": null,
   "id": "301a58e8",
   "metadata": {},
   "outputs": [],
   "source": [
    "# Count the number of records per country\n",
    "country_usage_counts = (\n",
    "    social_df_cleaned['Country']\n",
    "    .value_counts()\n",
    "    .head(10)\n",
    "    .reset_index()\n",
    ")\n",
    "\n",
    "country_usage_counts.columns = ['Country', 'UsageCount']\n",
    "\n",
    "\n",
    "plt.figure(figsize=(10, 6))\n",
    "sns.barplot(\n",
    "    data=country_usage_counts,\n",
    "    x='UsageCount', y='Country',\n",
    "    hue='Country',\n",
    "    palette='Blues_d',\n",
    "    legend=False,\n",
    ")\n",
    "plt.title('Top 10 Countries by Social Media Usage')\n",
    "plt.xlabel('Number of Records')\n",
    "plt.ylabel('Country')\n",
    "plt.tight_layout()\n",
    "plt.show()\n"
   ]
  },
  {
   "cell_type": "markdown",
   "id": "06ccb06c",
   "metadata": {},
   "source": [
    "## Power BI Data"
   ]
  },
  {
   "cell_type": "code",
   "execution_count": null,
   "id": "6946ef0c",
   "metadata": {},
   "outputs": [],
   "source": [
    "\n",
    "power_bi_df = pd.read_csv(\"categorizedSentiment.csv\")\n",
    "power_bi_df['Country'] = power_bi_df['Country'].str.strip().str.title()\n",
    "power_data = power_bi_df.dropna(subset=['Hashtags']).copy()\n",
    "power_bi_df['Hashtags'] = power_bi_df['Hashtags'].apply(ast.literal_eval)\n",
    "df_exploded = power_bi_df.explode('Hashtags').reset_index(drop=True)\n",
    "\n",
    "df_exploded.to_csv(\"power_bi_data.csv\", index=False)\n",
    "\n"
   ]
  }
 ],
 "metadata": {
  "kernelspec": {
   "display_name": "Python 3",
   "language": "python",
   "name": "python3"
  },
  "language_info": {
   "codemirror_mode": {
    "name": "ipython",
    "version": 3
   },
   "file_extension": ".py",
   "mimetype": "text/x-python",
   "name": "python",
   "nbconvert_exporter": "python",
   "pygments_lexer": "ipython3",
   "version": "3.13.2"
  }
 },
 "nbformat": 4,
 "nbformat_minor": 5
}
